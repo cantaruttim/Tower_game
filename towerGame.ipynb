{
 "cells": [
  {
   "cell_type": "code",
   "execution_count": 3,
   "metadata": {},
   "outputs": [
    {
     "data": {
      "text/plain": [
       "<Surface(700x700x32 SW)>"
      ]
     },
     "execution_count": 3,
     "metadata": {},
     "output_type": "execute_result"
    },
    {
     "ename": "",
     "evalue": "",
     "output_type": "error",
     "traceback": [
      "\u001b[1;31mThe Kernel crashed while executing code in the the current cell or a previous cell. Please review the code in the cell(s) to identify a possible cause of the failure. Click <a href='https://aka.ms/vscodeJupyterKernelCrash'>here</a> for more info. View Jupyter <a href='command:jupyter.viewOutput'>log</a> for further details."
     ]
    }
   ],
   "source": [
    "import pygame\n",
    "import os\n",
    "\n",
    "ai_jogando = False\n",
    "geracao = 0\n",
    "\n",
    "TELA_LARGURA = 700\n",
    "TELA_ALTURA = 800\n",
    "\n",
    "\n",
    "IMAGEM_TOWER = pygame.transform.scale2x(pygame.image.load(os.path.join('imgs', 'Tower.png')))\n",
    "IMAGEM_ENEMY = pygame.transform.scale2x(pygame.image.load(os.path.join('imgs', 'enemy.png')))\n",
    "IMAGEM_ENEMYFIRE = pygame.transform.scale2x(pygame.image.load(os.path.join('imgs', 'enemy fire.png')))\n",
    "IMAGEM_ENEMYCHEFE = pygame.transform.scale2x(pygame.image.load(os.path.join('imgs', 'enemy chefe.png')))\n",
    "\n",
    "pygame.font.init()\n",
    "FONTE_PONTOS = pygame.font.SysFont('arial', 50)\n",
    "\n",
    "\n",
    "class Tower:\n",
    "    IMGS = IMAGEM_TOWER\n",
    "    ROTACAO_MAXIMA = 360\n",
    "    VELOCIDADE_ROTACAO = 20\n",
    "    TEMPO = 5\n",
    "\n",
    "\n",
    "    def __init__(self, attack, defense, shooting_speed, money, coins):\n",
    "        self.attack = attack\n",
    "        self.defense = defense\n",
    "        self.shooting_speed = shooting_speed\n",
    "        self.money = money\n",
    "        self.coins = coins\n",
    "\n",
    "\n",
    "    def shoot(self):\n",
    "        self.shooting_speed = self.shooting_speed\n",
    "        self.attack = self.attack\n",
    "        self.fire = 50\n",
    "\n",
    "\n",
    "## display na tela \n",
    "# pygame.display.set_mode((700, 700))\n"
   ]
  }
 ],
 "metadata": {
  "kernelspec": {
   "display_name": "base",
   "language": "python",
   "name": "python3"
  },
  "language_info": {
   "codemirror_mode": {
    "name": "ipython",
    "version": 3
   },
   "file_extension": ".py",
   "mimetype": "text/x-python",
   "name": "python",
   "nbconvert_exporter": "python",
   "pygments_lexer": "ipython3",
   "version": "3.9.12"
  },
  "orig_nbformat": 4,
  "vscode": {
   "interpreter": {
    "hash": "c8d3184e42d5090dff9a42825f73ee2454fef8c1131708a89f889453d9fc9d30"
   }
  }
 },
 "nbformat": 4,
 "nbformat_minor": 2
}
