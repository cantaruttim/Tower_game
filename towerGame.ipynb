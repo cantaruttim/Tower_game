{
 "cells": [
  {
   "cell_type": "code",
   "execution_count": null,
   "metadata": {},
   "outputs": [],
   "source": [
    "import pygame\n",
    "import os\n",
    "\n",
    "ai_jogando = False\n",
    "geracao = 0\n",
    "\n",
    "TELA_LARGURA = 700\n",
    "TELA_ALTURA = 800\n",
    "\n",
    "\n",
    "IMAGEM_TOWER = pygame.transform.scale2x(pygame.image.load(os.path.join('imgs', 'Tower.png')))\n",
    "IMAGEM_ENEMY = pygame.transform.scale2x(pygame.image.load(os.path.join('imgs', 'enemy.png')))\n",
    "IMAGEM_ENEMYFIRE = pygame.transform.scale2x(pygame.image.load(os.path.join('imgs', 'enemy fire.png')))\n",
    "IMAGEM_ENEMYCHEFE = pygame.transform.scale2x(pygame.image.load(os.path.join('imgs', 'enemy chefe.png')))\n",
    "\n",
    "pygame.font.init()\n",
    "FONTE_PONTOS = pygame.font.SysFont('arial', 50)\n",
    "\n",
    "\n",
    "class Tower:\n",
    "    IMGS = IMAGEM_TOWER\n",
    "    ROTACAO_MAXIMA = 360\n",
    "    VELOCIDADE_ROTACAO = 20\n",
    "    TEMPO = 5\n",
    "\n",
    "\n",
    "    def __init__(self, attack, defense, shooting_speed, money, coins):\n",
    "        self.attack = attack\n",
    "        self.defense = defense\n",
    "        self.shooting_speed = shooting_speed\n",
    "        self.money = money\n",
    "        self.coins = coins\n",
    "\n",
    "\n",
    "    def shoot(self):\n",
    "        self.shooting_speed = self.shooting_speed\n",
    "        self.attack = self.attack\n",
    "        self.fire = 50\n",
    "\n",
    "\n",
    "\n",
    "    def desenhar_tela(tela):\n",
    "        tela.blit(0, 0)\n",
    "\n",
    "        for torre in torres:\n",
    "            torre.desenhar(tela)\n",
    "\n",
    "        pygame.display.update()\n",
    "\n",
    "\n",
    "\n",
    "\"\"\"\n",
    "\n",
    "        texto = FONTE_PONTOS.render(f\"Pontuação: {pontos}\", 1, (255, 255, 255))\n",
    "        tela.blit(texto, (TELA_LARGURA - 10 - texto.get_width(), 10))\n",
    "\n",
    "\n",
    "\"\"\"\n",
    "\"\"\"\n",
    "\n",
    "    if ai_jogando:\n",
    "        texto = FONTE_PONTOS.render(f\"Geração: {geracao}\", 1, (255, 255, 255))\n",
    "        tela.blit(texto, (10, 10))\n",
    "\n",
    "\"\"\""
   ]
  }
 ],
 "metadata": {
  "kernelspec": {
   "display_name": "base",
   "language": "python",
   "name": "python3"
  },
  "language_info": {
   "codemirror_mode": {
    "name": "ipython",
    "version": 3
   },
   "file_extension": ".py",
   "mimetype": "text/x-python",
   "name": "python",
   "nbconvert_exporter": "python",
   "pygments_lexer": "ipython3",
   "version": "3.9.12"
  },
  "orig_nbformat": 4,
  "vscode": {
   "interpreter": {
    "hash": "c8d3184e42d5090dff9a42825f73ee2454fef8c1131708a89f889453d9fc9d30"
   }
  }
 },
 "nbformat": 4,
 "nbformat_minor": 2
}
